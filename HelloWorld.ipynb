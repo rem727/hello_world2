{
 "cells": [
  {
   "cell_type": "code",
   "execution_count": 1,
   "id": "8b88ddcf-e2c0-4363-a362-ba41ff29e08c",
   "metadata": {},
   "outputs": [
    {
     "name": "stdout",
     "output_type": "stream",
     "text": [
      "Hello World\n"
     ]
    }
   ],
   "source": [
    "print(\"Hello World\")"
   ]
  },
  {
   "cell_type": "code",
   "execution_count": 2,
   "id": "93c5f395-3f86-4bfc-b38f-02d7744dbfca",
   "metadata": {},
   "outputs": [
    {
     "name": "stdout",
     "output_type": "stream",
     "text": [
      "ded\n"
     ]
    }
   ],
   "source": [
    "print(\"ded\")"
   ]
  },
  {
   "cell_type": "code",
   "execution_count": null,
   "id": "4f9da293-4af2-412a-b034-d6194d113724",
   "metadata": {},
   "outputs": [],
   "source": []
  }
 ],
 "metadata": {
  "kernelspec": {
   "display_name": "Python 3 (ipykernel)",
   "language": "python",
   "name": "python3"
  },
  "language_info": {
   "codemirror_mode": {
    "name": "ipython",
    "version": 3
   },
   "file_extension": ".py",
   "mimetype": "text/x-python",
   "name": "python",
   "nbconvert_exporter": "python",
   "pygments_lexer": "ipython3",
   "version": "3.9.7"
  }
 },
 "nbformat": 4,
 "nbformat_minor": 5
}
